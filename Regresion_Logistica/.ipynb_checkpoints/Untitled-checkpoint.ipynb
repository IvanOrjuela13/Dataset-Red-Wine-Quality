{
 "cells": [
  {
   "cell_type": "markdown",
   "id": "b6bfd882-6b56-4f68-9df0-aee4deb32f22",
   "metadata": {},
   "source": [
    "**Regresion_Logistica**"
   ]
  },
  {
   "cell_type": "code",
   "execution_count": null,
   "id": "ce9b5e7e-5b68-4da1-9c96-51f2961b12ca",
   "metadata": {},
   "outputs": [],
   "source": [
    "import numpy as np\n",
    "import pandas as pd\n",
    "import matplotlib.pyplot as plt\n",
    "from sklearn.model_selection import train_test_split\n",
    "from sklearn.linear_model import LogisticRegression\n",
    "from sklearn.metrics import accuracy_score, classification_report\n",
    "\n",
    "# Cargar los datos\n",
    "data = pd.read_csv('winequality-red.csv')\n",
    "\n",
    "# Definir umbral para clasificación\n",
    "threshold = 6  # Calidad mayor o igual a 6 se clasifica como buena (1), de lo contrario mala (0)\n",
    "\n",
    "# Definir las etiquetas de clase\n",
    "data['Class'] = np.where(data['quality'] >= threshold, 1, 0)\n",
    "\n",
    "# Explorar los datos\n",
    "print(data.head())\n",
    "\n",
    "# Dividir los datos en características (X) y etiquetas (y)\n",
    "X = data[['fixed acidity', 'volatile acidity', 'citric acid', 'residual sugar', 'chlorides', 'free sulfur dioxide', 'total sulfur dioxide', 'density', 'pH', 'sulphates', 'alcohol']]\n",
    "y = data['Class']  # Cambiar la etiqueta a 'Class'\n",
    "\n",
    "# Dividir los datos en conjuntos de entrenamiento y prueba\n",
    "X_train, X_test, y_train, y_test = train_test_split(X, y, test_size=0.2, random_state=42)\n",
    "\n",
    "# Crear el modelo de regresión logística\n",
    "model = LogisticRegression()\n",
    "\n",
    "# Entrenar el modelo\n",
    "model.fit(X_train, y_train)\n",
    "\n",
    "# Hacer predicciones\n",
    "y_pred = model.predict(X_test)\n",
    "\n",
    "# Evaluar el modelo\n",
    "accuracy = accuracy_score(y_test, y_pred)\n",
    "classification_rep = classification_report(y_test, y_pred)\n",
    "\n",
    "print('Accuracy:', accuracy)\n",
    "print('Classification Report:\\n', classification_rep)"
   ]
  }
 ],
 "metadata": {
  "kernelspec": {
   "display_name": "Python 3 (ipykernel)",
   "language": "python",
   "name": "python3"
  },
  "language_info": {
   "codemirror_mode": {
    "name": "ipython",
    "version": 3
   },
   "file_extension": ".py",
   "mimetype": "text/x-python",
   "name": "python",
   "nbconvert_exporter": "python",
   "pygments_lexer": "ipython3",
   "version": "3.11.7"
  }
 },
 "nbformat": 4,
 "nbformat_minor": 5
}
